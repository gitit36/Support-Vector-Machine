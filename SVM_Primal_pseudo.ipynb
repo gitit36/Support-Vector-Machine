{
  "nbformat": 4,
  "nbformat_minor": 0,
  "metadata": {
    "kernelspec": {
      "display_name": "Python 3",
      "language": "python",
      "name": "python3"
    },
    "language_info": {
      "codemirror_mode": {
        "name": "ipython",
        "version": 3
      },
      "file_extension": ".py",
      "mimetype": "text/x-python",
      "name": "python",
      "nbconvert_exporter": "python",
      "pygments_lexer": "ipython3",
      "version": "3.7.9"
    },
    "colab": {
      "name": "SVM_Primal_pseudo.ipynb",
      "provenance": [],
      "collapsed_sections": []
    }
  },
  "cells": [
    {
      "cell_type": "markdown",
      "metadata": {
        "id": "tsfefgx606HX"
      },
      "source": [
        "# Hard Margin Case"
      ]
    },
    {
      "cell_type": "code",
      "metadata": {
        "colab": {
          "base_uri": "https://localhost:8080/",
          "height": 282
        },
        "id": "8rJzdJBZ06Hc",
        "outputId": "8b97c928-d95d-4893-9f57-7c24eb2be7fb"
      },
      "source": [
        "import numpy as np\n",
        "import pandas as pd\n",
        "import csv\n",
        "from numpy import genfromtxt\n",
        "import matplotlib.pyplot as plt\n",
        "from cvxopt import matrix, solvers\n",
        "import cvxopt\n",
        "%matplotlib inline\n",
        "\n",
        "# Use pandas to load data from files.\n",
        "# Store the data from “X.csv” to X and target from “y.csv” to y\n",
        "X = np.asarray(pd.read_csv(\"/content/X.csv\", engine = \"python\"))\n",
        "y = np.asarray(pd.read_csv(\"/content/y.csv\", engine = \"python\"))\n",
        "\n",
        "def plot(X,y):\n",
        "  # Use np.where to find all index of data which y=1 and store them to idx_1\n",
        "  idx_1 = np.where(y==1)[0]\n",
        "\n",
        "  # same as y=-1, store them to idx_2\n",
        "  idx_2 = np.where(y==-1)[0]\n",
        "\n",
        "  # make the plot use plt.scatter(X[idx_1,0], X[idx_1,1], s=30, c='b', marker=\"o\")\n",
        "  plt.scatter(X[idx_1,0], X[idx_1,1], s=15, c='b', marker=\"o\")\n",
        "  plt.scatter(X[idx_2,0], X[idx_2,1], s=15, c='r', marker=\"o\")\n",
        "\n",
        "  # Set the x label with x1 and y label with x2\n",
        "  plt.xlabel('x1', fontsize=13)\n",
        "  plt.ylabel('x2', fontsize=13)\n",
        "\n",
        "  #plt.show()\n",
        "\n",
        "plot(X,y)"
      ],
      "execution_count": null,
      "outputs": [
        {
          "output_type": "display_data",
          "data": {
            "image/png": "[encoded data removed]",
            "text/plain": [
              "<Figure size 432x288 with 1 Axes>"
            ]
          },
          "metadata": {
            "tags": [],
            "needs_background": "light"
          }
        }
      ]
    },
    {
      "cell_type": "code",
      "metadata": {
        "colab": {
          "base_uri": "https://localhost:8080/"
        },
        "id": "oRBesbmKbjx9",
        "outputId": "844f77c8-af94-4a60-f2b7-1b79fdf1ac7d"
      },
      "source": [
        "def linear_svm(X,y):\n",
        "    solvers.options['show_progress'] = False\n",
        "#     store the shape of X to two variables: N,F\n",
        "    N,F = X.shape\n",
        "\n",
        "#     create the Identity matrix using np.diag and np.ones\n",
        "    I = np.identity(F)     \n",
        "\n",
        "#     create the Q matrix using np.zeros\n",
        "    Q = np.zeros((F+1,F+1))\n",
        "\n",
        "#     for each element in Q:\n",
        "#         when row number is 0, set Q[row, col]=0\n",
        "#         when col number is 0 set Q[row,col]=0\n",
        "#         else, compute Identity [row-1,col-1] and set it to Q[row,col]\n",
        "#     use cvxopt.matrix to create a new variable p with value Q\n",
        "\n",
        "    for row in range(F+1):\n",
        "      for column in range(F+1):\n",
        "        if row==0 or column==0:\n",
        "          Q[row,column] = 0\n",
        "        else:\n",
        "          Q[row,column] = I[row-1,column-1]\n",
        "    \n",
        "    # use cvxopt.matrix to create a new variable p with value Q\n",
        "    p = cvxopt.matrix(Q)\n",
        "    \n",
        "    # use cvxopt.matrix to create a new variable q with value np.zeros(F+1)\n",
        "    q = cvxopt.matrix(np.zeros(F+1))\n",
        "\n",
        "    # create an empty list\n",
        "    l = []\n",
        "    for n in range(N):\n",
        "      # create a zero matric with size F+1\n",
        "      Z = np.zeros(F+1)\n",
        "      # for each element in the matric above:\n",
        "      for i in range(len(Z)):\n",
        "        # when the index=0, then set it to 1\n",
        "        if i == 0:\n",
        "          Z[i] = 1\n",
        "        #  else, set the value to X[n].T[i-1]\n",
        "        else:\n",
        "          Z[i] = X[n].T[i-1]\n",
        "      #  append the y[n]*updated matric to the empty list above (the one above the for loop\n",
        "      l.append(y[n]*Z)   \n",
        "    # change the empty list to the np array and times -1\n",
        "    l = np.array(l)*(-1)\n",
        "\n",
        "    # use cvxopt.matrix to convert above np array and store it in a variable: G\n",
        "    G = cvxopt.matrix(l)\n",
        "    # create a variable named h with value np.ones(N)*-1 and convert it to cvxopt\n",
        "    h = cvxopt.matrix(np.ones(N)*-1)\n",
        "    # solve the primal using cvxopt.solvers.qp\n",
        "    answer = cvxopt.solvers.qp(p,q,G,h)\n",
        "    #  return the answer.\n",
        "    return answer\n",
        "\n",
        "# fit svm classifier\n",
        "answer = linear_svm(X,y)\n",
        "w = answer['x']\n",
        "\n",
        "# print the weights\n",
        "print('<< weights >>\\n', w)"
      ],
      "execution_count": null,
      "outputs": [
        {
          "output_type": "stream",
          "text": [
            "<< weights >>\n",
            " [ 4.61e-01]\n",
            "[ 1.42e+00]\n",
            "[-1.59e+00]\n",
            "\n"
          ],
          "name": "stdout"
        }
      ]
    },
    {
      "cell_type": "code",
      "metadata": {
        "id": "yzOGfMGr06He",
        "colab": {
          "base_uri": "https://localhost:8080/",
          "height": 282
        },
        "outputId": "02726f70-86aa-4faf-e271-bfec687aa6ef"
      },
      "source": [
        "def plot_data_with_decision_boundary(X, y, w, mark = 1, fig_size=(15, 9), labels=['x1', 'x2']):\n",
        "#     Added default arg \"draw\". If draw==1, plot. Else, only return xval and yval.\n",
        "#     Took out the w0 parameter because \n",
        "#     Decision Boundary: w1x + w2y + b = 0 (in our case, b = w[0]) \n",
        "#     find the slope of the decision boundary\n",
        "  slope = -w[1] / w[2]\n",
        "\n",
        "#     find the intercept.\n",
        "  intercept = -w[0] / w[2]\n",
        "\n",
        "#     generate several x values np.arrange()\n",
        "  xval = np.arange(10)\n",
        "\n",
        "#     calculate its y values using intercept and slope\n",
        "  yval = xval * slope + intercept\n",
        "\n",
        "  # Coded this part for convenience: To use this function more diversely depending on the parameters.\n",
        "  if mark == 1:\n",
        "#     plot the dataset\n",
        "    plot(X,y)\n",
        "  else:\n",
        "    pass\n",
        "\n",
        "#     plot a line\n",
        "  plt.plot(xval, yval)\n",
        "\n",
        "# plotting the points and decision boundary using the above function\n",
        "plot_data_with_decision_boundary(X,y,w,1)"
      ],
      "execution_count": null,
      "outputs": [
        {
          "output_type": "display_data",
          "data": {
            "image/png": "[encoded data removed]",
            "text/plain": [
              "<Figure size 432x288 with 1 Axes>"
            ]
          },
          "metadata": {
            "tags": [],
            "needs_background": "light"
          }
        }
      ]
    },
    {
      "cell_type": "markdown",
      "metadata": {
        "id": "uU9ZWZxN06He"
      },
      "source": [
        "Determine which points are closest to the decision boundary. What is the functional margin of the points closest to the decision boundary?   "
      ]
    },
    {
      "cell_type": "code",
      "metadata": {
        "id": "8qui9ekX06He",
        "colab": {
          "base_uri": "https://localhost:8080/",
          "height": 537
        },
        "outputId": "8e3082bb-52f2-4f9b-f4e5-7b73c1492d6e"
      },
      "source": [
        "import math\n",
        "\n",
        "# calculate distance from each point to the decision boundary\n",
        "# find the nearest data points and its index.\n",
        "\n",
        "idx_1 = np.where(y==1)[0]\n",
        "idx_2 = np.where(y==-1)[0]\n",
        "\n",
        "min_distance1, index1 = 0, 0\n",
        "for i in idx_1:\n",
        "  distance = abs((w[1] * X[i,0] + w[2] * X[i,1] + w[0])) / (math.sqrt(w[1] * w[1] + w[2] * w[2]))\n",
        "  if min_distance1==0:\n",
        "    min_distance1 = distance\n",
        "    index1 = i\n",
        "  if min_distance1 >= distance:\n",
        "    min_distance1 = distance\n",
        "    index1 = i\n",
        "point_idx_1 = X[index1]\n",
        "\n",
        "\n",
        "min_distance2, index2 = 0, 0\n",
        "for i in idx_2:\n",
        "  distance = abs((w[1] * X[i,0] + w[2] * X[i,1] + w[0])) / (math.sqrt(w[1] * w[1] + w[2] * w[2]))\n",
        "  if min_distance2==0:\n",
        "    min_distance2 = distance\n",
        "    index2 = i\n",
        "  if min_distance2 >= distance:\n",
        "    min_distance2 = distance\n",
        "    index2 = i\n",
        "point_idx_2 = X[index2]\n",
        "\n",
        "print('Nearest data points: \\n{}\\n{}'.format(point_idx_1, point_idx_2))\n",
        "print('\\nIndex of the points: \\n{}\\n{}'.format(index1, index2))\n",
        "print('\\nDistance to the decision boundary: \\n{}\\n{}'.format(min_distance1, min_distance2))\n",
        "print('\\nMargin: \\n{}\\n'.format(min_distance1 + min_distance2))\n",
        "\n",
        "# indicating the two nearestt data points from both labels on a plot\n",
        "plt.scatter(X[idx_1,0], X[idx_1,1], s=15, c='b', marker=\"o\")\n",
        "plt.scatter(X[idx_2,0], X[idx_2,1], s=15, c='r', marker=\"o\")\n",
        "\n",
        "plt.scatter(point_idx_1[0], point_idx_1[1], s=40, c='y', marker=\"X\")\n",
        "plt.scatter(point_idx_2[0], point_idx_2[1], s=40, c='g', marker=\"X\")"
      ],
      "execution_count": null,
      "outputs": [
        {
          "output_type": "stream",
          "text": [
            "Nearest data points: \n",
            "[2.51879639 1.91565724]\n",
            "[1.71138733 2.45204836]\n",
            "\n",
            "Index of the points: \n",
            "48\n",
            "67\n",
            "\n",
            "Distance to the decision boundary: \n",
            "0.46909184421108463\n",
            "0.4690918434840354\n",
            "\n",
            "Margin: \n",
            "0.93818368769512\n",
            "\n"
          ],
          "name": "stdout"
        },
        {
          "output_type": "execute_result",
          "data": {
            "text/plain": [
              "<matplotlib.collections.PathCollection at 0x7f9c9b60eb50>"
            ]
          },
          "metadata": {
            "tags": []
          },
          "execution_count": 8
        },
        {
          "output_type": "display_data",
          "data": {
            "image/png": "[encoded data removed]",
            "text/plain": [
              "<Figure size 432x288 with 1 Axes>"
            ]
          },
          "metadata": {
            "tags": [],
            "needs_background": "light"
          }
        }
      ]
    },
    {
      "cell_type": "markdown",
      "metadata": {
        "id": "qeLLaDc006Hf"
      },
      "source": [
        "Writing the decision function $f_{\\texttt{primal}}({\\bf x})$ to predict examples. Using this function to predict the label of $(3.0, 1.5)^T$ and $(1.2, 3.0)^T$"
      ]
    },
    {
      "cell_type": "code",
      "metadata": {
        "id": "sa6qR7ok06Hf",
        "colab": {
          "base_uri": "https://localhost:8080/",
          "height": 282
        },
        "outputId": "7024882c-e290-4e11-816e-9738fbc4e354"
      },
      "source": [
        "def f_primal(x): \n",
        "#     return the predicted value using svm primal\n",
        "  x = np.asarray(x)\n",
        "  distance = (w[1] * x[0] + w[2] * x[1] + w[0]) / (math.sqrt(w[1] * w[1] + w[2] * w[2]))\n",
        "  if distance < 0:\n",
        "    label = 'r'\n",
        "  else:\n",
        "    label = 'b'\n",
        "  \n",
        "  return x[0], x[1], label\n",
        "\n",
        "# using f_ primal() to predict (3.0, 1.5) and (1.2, 3.0) and plot the figure.\n",
        "\n",
        "point1 = f_primal([3.0, 1.5])\n",
        "point2 = f_primal([1.2, 3.0])\n",
        "\n",
        "plot_data_with_decision_boundary(X,y,w,0)\n",
        "plt.scatter(point1[0], point1[1], s=30, c=point1[2], marker=\"o\")\n",
        "plt.scatter(point2[0], point2[1], s=30, c=point2[2], marker=\"o\")"
      ],
      "execution_count": null,
      "outputs": [
        {
          "output_type": "execute_result",
          "data": {
            "text/plain": [
              "<matplotlib.collections.PathCollection at 0x7f9ca40f2990>"
            ]
          },
          "metadata": {
            "tags": []
          },
          "execution_count": 6
        },
        {
          "output_type": "display_data",
          "data": {
            "image/png": "[encoded data removed]",
            "text/plain": [
              "<Figure size 432x288 with 1 Axes>"
            ]
          },
          "metadata": {
            "tags": [],
            "needs_background": "light"
          }
        }
      ]
    }
  ]
}